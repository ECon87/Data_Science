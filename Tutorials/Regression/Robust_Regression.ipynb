{
 "cells": [
  {
   "cell_type": "markdown",
   "id": "ecb468c1-c3d0-4a3e-877e-c089f1b837d7",
   "metadata": {},
   "source": [
    "# Introduction to Robust Regression for ML"
   ]
  },
  {
   "cell_type": "markdown",
   "id": "bfdf7846-b79e-476c-b31b-72104d7d8984",
   "metadata": {},
   "source": [
    "[Link to article by Machine Learning Mastery](https://machinelearningmastery.com/robust-regression-for-machine-learning-in-python)"
   ]
  },
  {
   "cell_type": "markdown",
   "id": "0dc26b6d-2bb0-4520-9001-1dec5156dfd2",
   "metadata": {},
   "source": [
    "Linear regression is the most popular regression algorithm, however it is sensitive to the presence of outlier values which would bias the results. Instead, **robust regression algorithms** are robust to the presence of outliers in training data. "
   ]
  },
  {
   "cell_type": "markdown",
   "id": "cd3e0a8f-2d87-47b0-b66f-bc0b815ace40",
   "metadata": {},
   "source": [
    "Learning objectives for this tutorial:\n",
    "- How to use robust regression for data with outliers in the input or target values\n",
    "- How to evaluate robust regression algorithms for a regression predictive modeling task\n",
    "- How to compare robust regression algorithms using their line of best fit on the dataset\n",
    "\n",
    "The tutorial is divided into 4 parts:\n",
    "1. Regerssion with outliers\n",
    "2. Regression dataset with outliers\n",
    "3. Robust regression algorithms\n",
    "4. Compare robust regression algorithms"
   ]
  },
  {
   "cell_type": "markdown",
   "id": "0c9e8e60-b62f-47c5-9d89-c4bfd4b074a7",
   "metadata": {},
   "source": [
    "## Regression with Outliers"
   ]
  },
  {
   "cell_type": "code",
   "execution_count": null,
   "id": "a34a58a5-902b-425a-9652-cb6b276bed1b",
   "metadata": {},
   "outputs": [],
   "source": []
  }
 ],
 "metadata": {
  "kernelspec": {
   "display_name": "Python 3 (ipykernel)",
   "language": "python",
   "name": "python3"
  },
  "language_info": {
   "codemirror_mode": {
    "name": "ipython",
    "version": 3
   },
   "file_extension": ".py",
   "mimetype": "text/x-python",
   "name": "python",
   "nbconvert_exporter": "python",
   "pygments_lexer": "ipython3",
   "version": "3.10.12"
  }
 },
 "nbformat": 4,
 "nbformat_minor": 5
}
